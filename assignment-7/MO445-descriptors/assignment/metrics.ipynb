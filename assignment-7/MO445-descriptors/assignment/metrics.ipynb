{
 "cells": [
  {
   "cell_type": "code",
   "execution_count": 1,
   "metadata": {},
   "outputs": [],
   "source": [
    "%matplotlib inline\n",
    "import pandas as pd\n",
    "import numpy as np\n",
    "from matplotlib import pyplot as plt\n",
    "from sklearn import metrics as mt_s"
   ]
  },
  {
   "cell_type": "code",
   "execution_count": 2,
   "metadata": {},
   "outputs": [],
   "source": [
    "data = pd.read_csv('results.csv',header=None,delimiter=' ')"
   ]
  },
  {
   "cell_type": "code",
   "execution_count": 3,
   "metadata": {},
   "outputs": [],
   "source": [
    "df = pd.DataFrame(data)"
   ]
  },
  {
   "cell_type": "code",
   "execution_count": 4,
   "metadata": {},
   "outputs": [],
   "source": [
    "types = np.array(['apple','bat','beetle','bell','bird','Bone','bottle','brick','butterfly','camel','car','carriage','cattle','cellular_phone','chicken','children','chopper','classic','Comma','crown','cup','deer','device0','device1','device2','device3','device4','device5','device6','device7','device8','device9','dog','elephant','face','fish','flatfish','fly','fork','fountain','frog','Glas','guitar','hammer','hat','HCircle','Heart','horse','horseshoe','jar','key','lizzard','lmfish','Misk','octopus','pencil','personal_car','pocket','rat','ray','sea_snake','shoe','spoon','spring','stef','teddy','tree','truck','turtle','watch'])"
   ]
  },
  {
   "cell_type": "code",
   "execution_count": 5,
   "metadata": {},
   "outputs": [
    {
     "data": {
      "text/plain": [
       "(2800, 1402)"
      ]
     },
     "execution_count": 5,
     "metadata": {},
     "output_type": "execute_result"
    }
   ],
   "source": [
    "data.shape"
   ]
  },
  {
   "cell_type": "code",
   "execution_count": 7,
   "metadata": {},
   "outputs": [],
   "source": [
    "for t in types:\n",
    "    reg = '^' + t + '.*'\n",
    "#     print(r'' + reg)\n",
    "    df = df.replace(regex={reg:t})"
   ]
  },
  {
   "cell_type": "code",
   "execution_count": 52,
   "metadata": {},
   "outputs": [],
   "source": [
    "df_ss = df[df[0] == 1]\n",
    "df_mfd = df[df[0] == 2]"
   ]
  },
  {
   "cell_type": "code",
   "execution_count": 53,
   "metadata": {},
   "outputs": [],
   "source": [
    "df_ss = df_ss.drop([0],axis=1)\n",
    "df_mfd = df_mfd.drop([0],axis=1)"
   ]
  },
  {
   "cell_type": "code",
   "execution_count": 54,
   "metadata": {
    "scrolled": true
   },
   "outputs": [
    {
     "data": {
      "text/plain": [
       "(1400, 1401)"
      ]
     },
     "execution_count": 54,
     "metadata": {},
     "output_type": "execute_result"
    }
   ],
   "source": [
    "df_ss.shape"
   ]
  },
  {
   "cell_type": "code",
   "execution_count": 55,
   "metadata": {},
   "outputs": [
    {
     "data": {
      "text/plain": [
       "(1400, 1401)"
      ]
     },
     "execution_count": 55,
     "metadata": {},
     "output_type": "execute_result"
    }
   ],
   "source": [
    "df_mfd.shape"
   ]
  },
  {
   "cell_type": "code",
   "execution_count": 56,
   "metadata": {},
   "outputs": [],
   "source": [
    "# df_ss_sort = df_ss.sort_values(by=[1])\n",
    "# df_mfd_sort = df_mfd.sort_values(by=[1])"
   ]
  },
  {
   "cell_type": "code",
   "execution_count": 57,
   "metadata": {},
   "outputs": [],
   "source": [
    "df_ss = df_ss.values\n",
    "df_mfd = df_mfd.values"
   ]
  },
  {
   "cell_type": "code",
   "execution_count": 62,
   "metadata": {},
   "outputs": [],
   "source": [
    "df_ss_vec = np.ndarray((1400,1400)).astype(int)\n",
    "df_mfd_vec = np.ndarray((1400,1400)).astype(int)\n",
    "for row in range(df_ss.shape[0]):\n",
    "    df_ss_vec[row] = df_ss[row][1:] == df_ss[row][0]\n",
    "    df_mfd_vec[row] = df_mfd[row][1:] == df_mfd[row][0]"
   ]
  },
  {
   "cell_type": "code",
   "execution_count": 111,
   "metadata": {},
   "outputs": [],
   "source": [
    "ss_sum = np.sum(df_ss_vec,axis=0)\n",
    "mfd_sum = np.sum(df_mfd_vec,axis=0)"
   ]
  },
  {
   "cell_type": "code",
   "execution_count": 121,
   "metadata": {},
   "outputs": [
    {
     "data": {
      "text/plain": [
       "array([544, 216, 145, ...,  14,  25,  19])"
      ]
     },
     "execution_count": 121,
     "metadata": {},
     "output_type": "execute_result"
    }
   ],
   "source": [
    "ss_sum"
   ]
  },
  {
   "cell_type": "code",
   "execution_count": 114,
   "metadata": {},
   "outputs": [],
   "source": [
    "def precision_and_recall(y_bool):\n",
    "    precision = np.ndarray(y_bool.shape).astype(float)\n",
    "    recall = np.ndarray(y_bool.shape).astype(float)\n",
    "    for col in range(y_bool.shape[0]):\n",
    "        precision[col] = np.sum(y_bool[0:col+1]) / ((col+1) * 1400.0)\n",
    "        recall[col] = np.sum(y_bool[0:col+1]) / np.sum(y_bool)\n",
    "    return precision, recall"
   ]
  },
  {
   "cell_type": "code",
   "execution_count": 115,
   "metadata": {},
   "outputs": [],
   "source": [
    "ss_precision, ss_recall = precision_and_recall(ss_sum)\n",
    "mfd_precision, mfd_recall = precision_and_recall(mfd_sum)"
   ]
  },
  {
   "cell_type": "code",
   "execution_count": 128,
   "metadata": {},
   "outputs": [
    {
     "data": {
      "text/plain": [
       "Text(0.5, 1.0, 'precision x recall')"
      ]
     },
     "execution_count": 128,
     "metadata": {},
     "output_type": "execute_result"
    },
    {
     "data": {
      "image/png": "[encoded data removed]",
      "text/plain": [
       "<Figure size 432x288 with 1 Axes>"
      ]
     },
     "metadata": {
      "needs_background": "light"
     },
     "output_type": "display_data"
    }
   ],
   "source": [
    "plt.plot(ss_recall,ss_precision)\n",
    "plt.plot(mfd_recall,mfd_precision)\n",
    "plt.xlabel('recall')\n",
    "plt.ylabel('precision')\n",
    "plt.title('precision x recall')"
   ]
  },
  {
   "cell_type": "code",
   "execution_count": null,
   "metadata": {},
   "outputs": [],
   "source": []
  },
  {
   "cell_type": "code",
   "execution_count": null,
   "metadata": {},
   "outputs": [],
   "source": []
  },
  {
   "cell_type": "code",
   "execution_count": null,
   "metadata": {},
   "outputs": [],
   "source": []
  },
  {
   "cell_type": "code",
   "execution_count": null,
   "metadata": {},
   "outputs": [],
   "source": []
  }
 ],
 "metadata": {
  "kernelspec": {
   "display_name": "Python 3",
   "language": "python",
   "name": "python3"
  },
  "language_info": {
   "codemirror_mode": {
    "name": "ipython",
    "version": 3
   },
   "file_extension": ".py",
   "mimetype": "text/x-python",
   "name": "python",
   "nbconvert_exporter": "python",
   "pygments_lexer": "ipython3",
   "version": "3.6.8"
  }
 },
 "nbformat": 4,
 "nbformat_minor": 2
}
