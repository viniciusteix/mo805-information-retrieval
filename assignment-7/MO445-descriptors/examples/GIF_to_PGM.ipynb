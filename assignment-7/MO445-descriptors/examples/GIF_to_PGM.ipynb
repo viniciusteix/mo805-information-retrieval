{
 "cells": [
  {
   "cell_type": "code",
   "execution_count": null,
   "metadata": {},
   "outputs": [],
   "source": [
    "%matplotlib inline\n",
    "import numpy as np\n",
    "\n",
    "import matplotlib.pylab as ply\n",
    "\n",
    "import os\n",
    "import glob\n",
    "\n"
   ]
  },
  {
   "cell_type": "code",
   "execution_count": null,
   "metadata": {},
   "outputs": [],
   "source": [
    "source_path = \"Path_Workspace/\"\n",
    "path_images = \"mpeg7/\"\n",
    "output_path = \"mpeg_new/\""
   ]
  },
  {
   "cell_type": "code",
   "execution_count": null,
   "metadata": {},
   "outputs": [],
   "source": [
    "labels_images = []"
   ]
  },
  {
   "cell_type": "code",
   "execution_count": null,
   "metadata": {},
   "outputs": [],
   "source": [
    "def getImagesFromUrl(main_folder, folder, pasta):\n",
    "    if os.path.isdir(main_folder + folder):  # if path is valid\n",
    "        os.chdir(main_folder + folder)  # get in the folder\n",
    "        for file in glob.glob(\"*\"):  # for each file inside the folder\n",
    "            if os.path.isdir(main_folder + folder + file):  # if the file is a folder\n",
    "                labels_images[file] = []\n",
    "                # recursively get in inside the folder\n",
    "                getImagesFromUrl(main_folder, folder + file + '/', file)\n",
    "            else:  # otherwise, the file is a handbag image\n",
    "                if((file).endswith(\".gif\") or (file).endswith(\".png\") or (file).endswith(\".jpeg\") or (file).endswith(\".jpg\")):\n",
    "                    labels_images.append(main_folder + folder + file)"
   ]
  },
  {
   "cell_type": "code",
   "execution_count": null,
   "metadata": {},
   "outputs": [],
   "source": [
    "getImagesFromUrl(source_path, path_images, \"\")"
   ]
  },
  {
   "cell_type": "code",
   "execution_count": null,
   "metadata": {},
   "outputs": [],
   "source": [
    "len(labels_images)"
   ]
  },
  {
   "cell_type": "code",
   "execution_count": null,
   "metadata": {},
   "outputs": [],
   "source": [
    "for img_path in labels_images:\n",
    "    img = ply.imread(img_path)\n",
    "    try:\n",
    "        img = img[:,:,0]\n",
    "    except:\n",
    "        None;\n",
    "    img = np.ceil(img/255)\n",
    "    filename = source_path+output_path+img_path[41:-4]+'.pgm'\n",
    "    fout=open(filename, 'wb')\n",
    "    # define PGM Header\n",
    "    pgmHeader = 'P2' + '\\n' + str(img.shape[1]) + ' ' + str(img.shape[0]) + '\\n' + str(1) +  '\\n'\n",
    "    pgmHeader_byte = bytearray(pgmHeader,'utf-8')\n",
    "    fout.write(pgmHeader_byte)\n",
    "    \n",
    "    img_ = np.reshape(img,(img.shape[0],img.shape[1]))\n",
    "    \n",
    "    for j in range(img_.shape[0]):\n",
    "        bnd = list(img_[j,:])\n",
    "        bnd_str = np.char.mod('%d',bnd)\n",
    "        bnd_str = np.append(bnd_str,'\\n')\n",
    "        bnd_str = [' '.join(bnd_str)][0]    \n",
    "        bnd_byte = bytearray(bnd_str,'utf-8')\n",
    "        fout.write(bnd_byte)\n",
    "    fout.close()"
   ]
  },
  {
   "cell_type": "code",
   "execution_count": null,
   "metadata": {},
   "outputs": [],
   "source": []
  }
 ],
 "metadata": {
  "kernelspec": {
   "display_name": "Python 3",
   "language": "python",
   "name": "python3"
  },
  "language_info": {
   "codemirror_mode": {
    "name": "ipython",
    "version": 3
   },
   "file_extension": ".py",
   "mimetype": "text/x-python",
   "name": "python",
   "nbconvert_exporter": "python",
   "pygments_lexer": "ipython3",
   "version": "3.7.1"
  }
 },
 "nbformat": 4,
 "nbformat_minor": 2
}
