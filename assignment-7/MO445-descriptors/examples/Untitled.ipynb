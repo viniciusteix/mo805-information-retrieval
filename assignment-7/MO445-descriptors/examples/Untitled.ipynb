{
 "cells": [
  {
   "cell_type": "code",
   "execution_count": 122,
   "metadata": {},
   "outputs": [],
   "source": [
    "%matplotlib inline\n",
    "import pandas as pd\n",
    "import numpy as np\n",
    "from matplotlib import pyplot as plt\n",
    "from sklearn import metrics"
   ]
  },
  {
   "cell_type": "code",
   "execution_count": 37,
   "metadata": {},
   "outputs": [],
   "source": [
    "data = pd.read_csv('results.csv',header=None,delimiter=' ')"
   ]
  },
  {
   "cell_type": "code",
   "execution_count": 38,
   "metadata": {},
   "outputs": [],
   "source": [
    "df = pd.DataFrame(data)"
   ]
  },
  {
   "cell_type": "code",
   "execution_count": 39,
   "metadata": {},
   "outputs": [],
   "source": [
    "types = np.array(['apple','bat','beetle','bell','bird','Bone','bottle','brick','butterfly','camel','car','carriage','cattle','cellular_phone','chicken','children','chopper','classic','Comma','crown','cup','deer','device0','device1','device2','device3','device4','device5','device6','device7','device8','device9','dog','elephant','face','fish','flatfish','fly','fork','fountain','frog','Glas','guitar','hammer','hat','HCircle','Heart','horse','horseshoe','jar','key','lizzard','lmfish','Misk','octopus','pencil','personal_car','pocket','rat','ray','sea_snake','shoe','spoon','spring','stef','teddy','tree','truck','turtle','watch'])"
   ]
  },
  {
   "cell_type": "code",
   "execution_count": 16,
   "metadata": {},
   "outputs": [
    {
     "data": {
      "text/plain": [
       "(70,)"
      ]
     },
     "execution_count": 16,
     "metadata": {},
     "output_type": "execute_result"
    }
   ],
   "source": [
    "types.shape"
   ]
  },
  {
   "cell_type": "code",
   "execution_count": 44,
   "metadata": {},
   "outputs": [],
   "source": [
    "for t in types:\n",
    "    reg = '^' + t + '.*'\n",
    "#     print(r'' + reg)\n",
    "    df = df.replace(regex={reg:t})"
   ]
  },
  {
   "cell_type": "code",
   "execution_count": 46,
   "metadata": {},
   "outputs": [
    {
     "data": {
      "text/html": [
       "<div>\n",
       "<style scoped>\n",
       "    .dataframe tbody tr th:only-of-type {\n",
       "        vertical-align: middle;\n",
       "    }\n",
       "\n",
       "    .dataframe tbody tr th {\n",
       "        vertical-align: top;\n",
       "    }\n",
       "\n",
       "    .dataframe thead th {\n",
       "        text-align: right;\n",
       "    }\n",
       "</style>\n",
       "<table border=\"1\" class=\"dataframe\">\n",
       "  <thead>\n",
       "    <tr style=\"text-align: right;\">\n",
       "      <th></th>\n",
       "      <th>0</th>\n",
       "      <th>1</th>\n",
       "      <th>2</th>\n",
       "      <th>3</th>\n",
       "      <th>4</th>\n",
       "      <th>5</th>\n",
       "      <th>6</th>\n",
       "      <th>7</th>\n",
       "      <th>8</th>\n",
       "      <th>9</th>\n",
       "      <th>...</th>\n",
       "      <th>12</th>\n",
       "      <th>13</th>\n",
       "      <th>14</th>\n",
       "      <th>15</th>\n",
       "      <th>16</th>\n",
       "      <th>17</th>\n",
       "      <th>18</th>\n",
       "      <th>19</th>\n",
       "      <th>20</th>\n",
       "      <th>21</th>\n",
       "    </tr>\n",
       "  </thead>\n",
       "  <tbody>\n",
       "    <tr>\n",
       "      <th>0</th>\n",
       "      <td>1</td>\n",
       "      <td>crown</td>\n",
       "      <td>crown</td>\n",
       "      <td>Heart</td>\n",
       "      <td>device6</td>\n",
       "      <td>HCircle</td>\n",
       "      <td>sea_snake</td>\n",
       "      <td>device7</td>\n",
       "      <td>jar</td>\n",
       "      <td>device7</td>\n",
       "      <td>...</td>\n",
       "      <td>lmfish</td>\n",
       "      <td>device4</td>\n",
       "      <td>lmfish</td>\n",
       "      <td>device0</td>\n",
       "      <td>shoe</td>\n",
       "      <td>sea_snake</td>\n",
       "      <td>shoe</td>\n",
       "      <td>Heart</td>\n",
       "      <td>Bone</td>\n",
       "      <td>device2</td>\n",
       "    </tr>\n",
       "    <tr>\n",
       "      <th>1</th>\n",
       "      <td>1</td>\n",
       "      <td>car</td>\n",
       "      <td>car</td>\n",
       "      <td>Heart</td>\n",
       "      <td>horse</td>\n",
       "      <td>device1</td>\n",
       "      <td>sea_snake</td>\n",
       "      <td>cellular_phone</td>\n",
       "      <td>device5</td>\n",
       "      <td>Comma</td>\n",
       "      <td>...</td>\n",
       "      <td>device4</td>\n",
       "      <td>Bone</td>\n",
       "      <td>shoe</td>\n",
       "      <td>spring</td>\n",
       "      <td>device7</td>\n",
       "      <td>Bone</td>\n",
       "      <td>shoe</td>\n",
       "      <td>Misk</td>\n",
       "      <td>HCircle</td>\n",
       "      <td>cellular_phone</td>\n",
       "    </tr>\n",
       "    <tr>\n",
       "      <th>2</th>\n",
       "      <td>1</td>\n",
       "      <td>truck</td>\n",
       "      <td>truck</td>\n",
       "      <td>beetle</td>\n",
       "      <td>device1</td>\n",
       "      <td>device1</td>\n",
       "      <td>device7</td>\n",
       "      <td>cup</td>\n",
       "      <td>device0</td>\n",
       "      <td>device1</td>\n",
       "      <td>...</td>\n",
       "      <td>beetle</td>\n",
       "      <td>teddy</td>\n",
       "      <td>lizzard</td>\n",
       "      <td>elephant</td>\n",
       "      <td>elephant</td>\n",
       "      <td>device0</td>\n",
       "      <td>device5</td>\n",
       "      <td>hat</td>\n",
       "      <td>device0</td>\n",
       "      <td>horse</td>\n",
       "    </tr>\n",
       "    <tr>\n",
       "      <th>3</th>\n",
       "      <td>1</td>\n",
       "      <td>lmfish</td>\n",
       "      <td>lmfish</td>\n",
       "      <td>shoe</td>\n",
       "      <td>Heart</td>\n",
       "      <td>device2</td>\n",
       "      <td>key</td>\n",
       "      <td>device4</td>\n",
       "      <td>bat</td>\n",
       "      <td>tree</td>\n",
       "      <td>...</td>\n",
       "      <td>jar</td>\n",
       "      <td>jar</td>\n",
       "      <td>device3</td>\n",
       "      <td>device8</td>\n",
       "      <td>fork</td>\n",
       "      <td>device1</td>\n",
       "      <td>jar</td>\n",
       "      <td>device6</td>\n",
       "      <td>device4</td>\n",
       "      <td>cup</td>\n",
       "    </tr>\n",
       "    <tr>\n",
       "      <th>4</th>\n",
       "      <td>1</td>\n",
       "      <td>deer</td>\n",
       "      <td>deer</td>\n",
       "      <td>deer</td>\n",
       "      <td>deer</td>\n",
       "      <td>deer</td>\n",
       "      <td>deer</td>\n",
       "      <td>pocket</td>\n",
       "      <td>bird</td>\n",
       "      <td>deer</td>\n",
       "      <td>...</td>\n",
       "      <td>deer</td>\n",
       "      <td>cattle</td>\n",
       "      <td>deer</td>\n",
       "      <td>cattle</td>\n",
       "      <td>deer</td>\n",
       "      <td>bird</td>\n",
       "      <td>butterfly</td>\n",
       "      <td>horse</td>\n",
       "      <td>cattle</td>\n",
       "      <td>deer</td>\n",
       "    </tr>\n",
       "  </tbody>\n",
       "</table>\n",
       "<p>5 rows × 22 columns</p>\n",
       "</div>"
      ],
      "text/plain": [
       "   0       1       2       3        4        5          6               7   \\\n",
       "0   1   crown   crown   Heart  device6  HCircle  sea_snake         device7   \n",
       "1   1     car     car   Heart    horse  device1  sea_snake  cellular_phone   \n",
       "2   1   truck   truck  beetle  device1  device1    device7             cup   \n",
       "3   1  lmfish  lmfish    shoe    Heart  device2        key         device4   \n",
       "4   1    deer    deer    deer     deer     deer       deer          pocket   \n",
       "\n",
       "        8        9   ...       12       13       14        15        16  \\\n",
       "0      jar  device7  ...   lmfish  device4   lmfish   device0      shoe   \n",
       "1  device5    Comma  ...  device4     Bone     shoe    spring   device7   \n",
       "2  device0  device1  ...   beetle    teddy  lizzard  elephant  elephant   \n",
       "3      bat     tree  ...      jar      jar  device3   device8      fork   \n",
       "4     bird     deer  ...     deer   cattle     deer    cattle      deer   \n",
       "\n",
       "          17         18       19       20              21  \n",
       "0  sea_snake       shoe    Heart     Bone         device2  \n",
       "1       Bone       shoe     Misk  HCircle  cellular_phone  \n",
       "2    device0    device5      hat  device0           horse  \n",
       "3    device1        jar  device6  device4             cup  \n",
       "4       bird  butterfly    horse   cattle            deer  \n",
       "\n",
       "[5 rows x 22 columns]"
      ]
     },
     "execution_count": 46,
     "metadata": {},
     "output_type": "execute_result"
    }
   ],
   "source": [
    "df.head()"
   ]
  },
  {
   "cell_type": "code",
   "execution_count": 59,
   "metadata": {},
   "outputs": [],
   "source": [
    "df_ss = df[df[0] == 1]\n",
    "df_mfd = df[df[0] == 2]"
   ]
  },
  {
   "cell_type": "code",
   "execution_count": 60,
   "metadata": {},
   "outputs": [
    {
     "data": {
      "text/plain": [
       "(2800, 22)"
      ]
     },
     "execution_count": 60,
     "metadata": {},
     "output_type": "execute_result"
    }
   ],
   "source": [
    "df.shape"
   ]
  },
  {
   "cell_type": "code",
   "execution_count": 61,
   "metadata": {},
   "outputs": [
    {
     "data": {
      "text/plain": [
       "(1400, 22)"
      ]
     },
     "execution_count": 61,
     "metadata": {},
     "output_type": "execute_result"
    }
   ],
   "source": [
    "df_ss.shape"
   ]
  },
  {
   "cell_type": "code",
   "execution_count": 62,
   "metadata": {},
   "outputs": [
    {
     "data": {
      "text/plain": [
       "(1400, 22)"
      ]
     },
     "execution_count": 62,
     "metadata": {},
     "output_type": "execute_result"
    }
   ],
   "source": [
    "df_mfd.shape"
   ]
  },
  {
   "cell_type": "code",
   "execution_count": 63,
   "metadata": {},
   "outputs": [],
   "source": [
    "df_ss = df_ss.drop([0],axis=1)\n",
    "df_mfd = df_mfd.drop([0],axis=1)"
   ]
  },
  {
   "cell_type": "code",
   "execution_count": 65,
   "metadata": {},
   "outputs": [
    {
     "data": {
      "text/html": [
       "<div>\n",
       "<style scoped>\n",
       "    .dataframe tbody tr th:only-of-type {\n",
       "        vertical-align: middle;\n",
       "    }\n",
       "\n",
       "    .dataframe tbody tr th {\n",
       "        vertical-align: top;\n",
       "    }\n",
       "\n",
       "    .dataframe thead th {\n",
       "        text-align: right;\n",
       "    }\n",
       "</style>\n",
       "<table border=\"1\" class=\"dataframe\">\n",
       "  <thead>\n",
       "    <tr style=\"text-align: right;\">\n",
       "      <th></th>\n",
       "      <th>1</th>\n",
       "      <th>2</th>\n",
       "      <th>3</th>\n",
       "      <th>4</th>\n",
       "      <th>5</th>\n",
       "      <th>6</th>\n",
       "      <th>7</th>\n",
       "      <th>8</th>\n",
       "      <th>9</th>\n",
       "      <th>10</th>\n",
       "      <th>...</th>\n",
       "      <th>12</th>\n",
       "      <th>13</th>\n",
       "      <th>14</th>\n",
       "      <th>15</th>\n",
       "      <th>16</th>\n",
       "      <th>17</th>\n",
       "      <th>18</th>\n",
       "      <th>19</th>\n",
       "      <th>20</th>\n",
       "      <th>21</th>\n",
       "    </tr>\n",
       "  </thead>\n",
       "  <tbody>\n",
       "    <tr>\n",
       "      <th>0</th>\n",
       "      <td>crown</td>\n",
       "      <td>crown</td>\n",
       "      <td>Heart</td>\n",
       "      <td>device6</td>\n",
       "      <td>HCircle</td>\n",
       "      <td>sea_snake</td>\n",
       "      <td>device7</td>\n",
       "      <td>jar</td>\n",
       "      <td>device7</td>\n",
       "      <td>Comma</td>\n",
       "      <td>...</td>\n",
       "      <td>lmfish</td>\n",
       "      <td>device4</td>\n",
       "      <td>lmfish</td>\n",
       "      <td>device0</td>\n",
       "      <td>shoe</td>\n",
       "      <td>sea_snake</td>\n",
       "      <td>shoe</td>\n",
       "      <td>Heart</td>\n",
       "      <td>Bone</td>\n",
       "      <td>device2</td>\n",
       "    </tr>\n",
       "    <tr>\n",
       "      <th>1</th>\n",
       "      <td>car</td>\n",
       "      <td>car</td>\n",
       "      <td>Heart</td>\n",
       "      <td>horse</td>\n",
       "      <td>device1</td>\n",
       "      <td>sea_snake</td>\n",
       "      <td>cellular_phone</td>\n",
       "      <td>device5</td>\n",
       "      <td>Comma</td>\n",
       "      <td>HCircle</td>\n",
       "      <td>...</td>\n",
       "      <td>device4</td>\n",
       "      <td>Bone</td>\n",
       "      <td>shoe</td>\n",
       "      <td>spring</td>\n",
       "      <td>device7</td>\n",
       "      <td>Bone</td>\n",
       "      <td>shoe</td>\n",
       "      <td>Misk</td>\n",
       "      <td>HCircle</td>\n",
       "      <td>cellular_phone</td>\n",
       "    </tr>\n",
       "    <tr>\n",
       "      <th>2</th>\n",
       "      <td>truck</td>\n",
       "      <td>truck</td>\n",
       "      <td>beetle</td>\n",
       "      <td>device1</td>\n",
       "      <td>device1</td>\n",
       "      <td>device7</td>\n",
       "      <td>cup</td>\n",
       "      <td>device0</td>\n",
       "      <td>device1</td>\n",
       "      <td>fountain</td>\n",
       "      <td>...</td>\n",
       "      <td>beetle</td>\n",
       "      <td>teddy</td>\n",
       "      <td>lizzard</td>\n",
       "      <td>elephant</td>\n",
       "      <td>elephant</td>\n",
       "      <td>device0</td>\n",
       "      <td>device5</td>\n",
       "      <td>hat</td>\n",
       "      <td>device0</td>\n",
       "      <td>horse</td>\n",
       "    </tr>\n",
       "    <tr>\n",
       "      <th>3</th>\n",
       "      <td>lmfish</td>\n",
       "      <td>lmfish</td>\n",
       "      <td>shoe</td>\n",
       "      <td>Heart</td>\n",
       "      <td>device2</td>\n",
       "      <td>key</td>\n",
       "      <td>device4</td>\n",
       "      <td>bat</td>\n",
       "      <td>tree</td>\n",
       "      <td>jar</td>\n",
       "      <td>...</td>\n",
       "      <td>jar</td>\n",
       "      <td>jar</td>\n",
       "      <td>device3</td>\n",
       "      <td>device8</td>\n",
       "      <td>fork</td>\n",
       "      <td>device1</td>\n",
       "      <td>jar</td>\n",
       "      <td>device6</td>\n",
       "      <td>device4</td>\n",
       "      <td>cup</td>\n",
       "    </tr>\n",
       "    <tr>\n",
       "      <th>4</th>\n",
       "      <td>deer</td>\n",
       "      <td>deer</td>\n",
       "      <td>deer</td>\n",
       "      <td>deer</td>\n",
       "      <td>deer</td>\n",
       "      <td>deer</td>\n",
       "      <td>pocket</td>\n",
       "      <td>bird</td>\n",
       "      <td>deer</td>\n",
       "      <td>lizzard</td>\n",
       "      <td>...</td>\n",
       "      <td>deer</td>\n",
       "      <td>cattle</td>\n",
       "      <td>deer</td>\n",
       "      <td>cattle</td>\n",
       "      <td>deer</td>\n",
       "      <td>bird</td>\n",
       "      <td>butterfly</td>\n",
       "      <td>horse</td>\n",
       "      <td>cattle</td>\n",
       "      <td>deer</td>\n",
       "    </tr>\n",
       "  </tbody>\n",
       "</table>\n",
       "<p>5 rows × 21 columns</p>\n",
       "</div>"
      ],
      "text/plain": [
       "       1       2       3        4        5          6               7   \\\n",
       "0   crown   crown   Heart  device6  HCircle  sea_snake         device7   \n",
       "1     car     car   Heart    horse  device1  sea_snake  cellular_phone   \n",
       "2   truck   truck  beetle  device1  device1    device7             cup   \n",
       "3  lmfish  lmfish    shoe    Heart  device2        key         device4   \n",
       "4    deer    deer    deer     deer     deer       deer          pocket   \n",
       "\n",
       "        8        9         10  ...       12       13       14        15  \\\n",
       "0      jar  device7     Comma  ...   lmfish  device4   lmfish   device0   \n",
       "1  device5    Comma   HCircle  ...  device4     Bone     shoe    spring   \n",
       "2  device0  device1  fountain  ...   beetle    teddy  lizzard  elephant   \n",
       "3      bat     tree       jar  ...      jar      jar  device3   device8   \n",
       "4     bird     deer   lizzard  ...     deer   cattle     deer    cattle   \n",
       "\n",
       "         16         17         18       19       20              21  \n",
       "0      shoe  sea_snake       shoe    Heart     Bone         device2  \n",
       "1   device7       Bone       shoe     Misk  HCircle  cellular_phone  \n",
       "2  elephant    device0    device5      hat  device0           horse  \n",
       "3      fork    device1        jar  device6  device4             cup  \n",
       "4      deer       bird  butterfly    horse   cattle            deer  \n",
       "\n",
       "[5 rows x 21 columns]"
      ]
     },
     "execution_count": 65,
     "metadata": {},
     "output_type": "execute_result"
    }
   ],
   "source": [
    "df_ss.head()"
   ]
  },
  {
   "cell_type": "code",
   "execution_count": 154,
   "metadata": {},
   "outputs": [],
   "source": [
    "test = np.ndarray(df_ss.shape).astype('str')"
   ]
  },
  {
   "cell_type": "code",
   "execution_count": 155,
   "metadata": {},
   "outputs": [
    {
     "data": {
      "text/plain": [
       "(1400, 21)"
      ]
     },
     "execution_count": 155,
     "metadata": {},
     "output_type": "execute_result"
    }
   ],
   "source": [
    "test.shape"
   ]
  },
  {
   "cell_type": "code",
   "execution_count": 156,
   "metadata": {},
   "outputs": [],
   "source": [
    "for i in range(0,df_ss.shape[0]):\n",
    "    test[i,:] = np.full((1,df_ss.shape[1]),df_ss[1][i])"
   ]
  },
  {
   "cell_type": "code",
   "execution_count": 157,
   "metadata": {},
   "outputs": [
    {
     "data": {
      "text/plain": [
       "(1400, 21)"
      ]
     },
     "execution_count": 157,
     "metadata": {},
     "output_type": "execute_result"
    }
   ],
   "source": [
    "test.shape"
   ]
  },
  {
   "cell_type": "code",
   "execution_count": 158,
   "metadata": {},
   "outputs": [
    {
     "data": {
      "text/plain": [
       "(1400, 21)"
      ]
     },
     "execution_count": 158,
     "metadata": {},
     "output_type": "execute_result"
    }
   ],
   "source": [
    "df_ss.shape"
   ]
  },
  {
   "cell_type": "code",
   "execution_count": 159,
   "metadata": {},
   "outputs": [
    {
     "data": {
      "text/plain": [
       "array([['crown', 'crown', 'crown', ..., 'crown', 'crown', 'crown'],\n",
       "       ['car', 'car', 'car', ..., 'car', 'car', 'car'],\n",
       "       ['truck', 'truck', 'truck', ..., 'truck', 'truck', 'truck'],\n",
       "       ...,\n",
       "       ['classic', 'classic', 'classic', ..., 'classic', 'classic',\n",
       "        'classic'],\n",
       "       ['car', 'car', 'car', ..., 'car', 'car', 'car'],\n",
       "       ['guitar', 'guitar', 'guitar', ..., 'guitar', 'guitar', 'guitar']],\n",
       "      dtype='<U32')"
      ]
     },
     "execution_count": 159,
     "metadata": {},
     "output_type": "execute_result"
    }
   ],
   "source": [
    "test"
   ]
  },
  {
   "cell_type": "code",
   "execution_count": 160,
   "metadata": {},
   "outputs": [],
   "source": [
    "y_true = df_ss.values\n",
    "y_pred = np.array(test).astype('object')"
   ]
  },
  {
   "cell_type": "code",
   "execution_count": 161,
   "metadata": {},
   "outputs": [
    {
     "data": {
      "text/plain": [
       "array(['crown', 'crown', 'crown', 'crown', 'crown', 'crown', 'crown',\n",
       "       'crown', 'crown', 'crown', 'crown', 'crown', 'crown', 'crown',\n",
       "       'crown', 'crown', 'crown', 'crown', 'crown', 'crown', 'crown'],\n",
       "      dtype=object)"
      ]
     },
     "execution_count": 161,
     "metadata": {},
     "output_type": "execute_result"
    }
   ],
   "source": [
    "y_pred[0]"
   ]
  },
  {
   "cell_type": "code",
   "execution_count": 162,
   "metadata": {},
   "outputs": [
    {
     "data": {
      "text/plain": [
       "array(['crown', 'crown', 'Heart', 'device6', 'HCircle', 'sea_snake',\n",
       "       'device7', 'jar', 'device7', 'Comma', 'cup', 'lmfish', 'device4',\n",
       "       'lmfish', 'device0', 'shoe', 'sea_snake', 'shoe', 'Heart', 'Bone',\n",
       "       'device2'], dtype=object)"
      ]
     },
     "execution_count": 162,
     "metadata": {},
     "output_type": "execute_result"
    }
   ],
   "source": [
    "y_true[0]"
   ]
  },
  {
   "cell_type": "code",
   "execution_count": 163,
   "metadata": {},
   "outputs": [
    {
     "ename": "ValueError",
     "evalue": "multiclass format is not supported",
     "output_type": "error",
     "traceback": [
      "\u001b[0;31m---------------------------------------------------------------------------\u001b[0m",
      "\u001b[0;31mValueError\u001b[0m                                Traceback (most recent call last)",
      "\u001b[0;32m<ipython-input-163-51f37566632e>\u001b[0m in \u001b[0;36m<module>\u001b[0;34m\u001b[0m\n\u001b[0;32m----> 1\u001b[0;31m \u001b[0mmetrics\u001b[0m\u001b[0;34m.\u001b[0m\u001b[0mprecision_recall_curve\u001b[0m\u001b[0;34m(\u001b[0m\u001b[0my_true\u001b[0m\u001b[0;34m[\u001b[0m\u001b[0;36m0\u001b[0m\u001b[0;34m]\u001b[0m\u001b[0;34m,\u001b[0m\u001b[0my_pred\u001b[0m\u001b[0;34m[\u001b[0m\u001b[0;36m0\u001b[0m\u001b[0;34m]\u001b[0m\u001b[0;34m)\u001b[0m\u001b[0;34m\u001b[0m\u001b[0;34m\u001b[0m\u001b[0m\n\u001b[0m",
      "\u001b[0;32m~/miniconda3/lib/python3.6/site-packages/sklearn/metrics/ranking.py\u001b[0m in \u001b[0;36mprecision_recall_curve\u001b[0;34m(y_true, probas_pred, pos_label, sample_weight)\u001b[0m\n\u001b[1;32m    520\u001b[0m     fps, tps, thresholds = _binary_clf_curve(y_true, probas_pred,\n\u001b[1;32m    521\u001b[0m                                              \u001b[0mpos_label\u001b[0m\u001b[0;34m=\u001b[0m\u001b[0mpos_label\u001b[0m\u001b[0;34m,\u001b[0m\u001b[0;34m\u001b[0m\u001b[0;34m\u001b[0m\u001b[0m\n\u001b[0;32m--> 522\u001b[0;31m                                              sample_weight=sample_weight)\n\u001b[0m\u001b[1;32m    523\u001b[0m \u001b[0;34m\u001b[0m\u001b[0m\n\u001b[1;32m    524\u001b[0m     \u001b[0mprecision\u001b[0m \u001b[0;34m=\u001b[0m \u001b[0mtps\u001b[0m \u001b[0;34m/\u001b[0m \u001b[0;34m(\u001b[0m\u001b[0mtps\u001b[0m \u001b[0;34m+\u001b[0m \u001b[0mfps\u001b[0m\u001b[0;34m)\u001b[0m\u001b[0;34m\u001b[0m\u001b[0;34m\u001b[0m\u001b[0m\n",
      "\u001b[0;32m~/miniconda3/lib/python3.6/site-packages/sklearn/metrics/ranking.py\u001b[0m in \u001b[0;36m_binary_clf_curve\u001b[0;34m(y_true, y_score, pos_label, sample_weight)\u001b[0m\n\u001b[1;32m    395\u001b[0m     if not (y_type == \"binary\" or\n\u001b[1;32m    396\u001b[0m             (y_type == \"multiclass\" and pos_label is not None)):\n\u001b[0;32m--> 397\u001b[0;31m         \u001b[0;32mraise\u001b[0m \u001b[0mValueError\u001b[0m\u001b[0;34m(\u001b[0m\u001b[0;34m\"{0} format is not supported\"\u001b[0m\u001b[0;34m.\u001b[0m\u001b[0mformat\u001b[0m\u001b[0;34m(\u001b[0m\u001b[0my_type\u001b[0m\u001b[0;34m)\u001b[0m\u001b[0;34m)\u001b[0m\u001b[0;34m\u001b[0m\u001b[0;34m\u001b[0m\u001b[0m\n\u001b[0m\u001b[1;32m    398\u001b[0m \u001b[0;34m\u001b[0m\u001b[0m\n\u001b[1;32m    399\u001b[0m     \u001b[0mcheck_consistent_length\u001b[0m\u001b[0;34m(\u001b[0m\u001b[0my_true\u001b[0m\u001b[0;34m,\u001b[0m \u001b[0my_score\u001b[0m\u001b[0;34m,\u001b[0m \u001b[0msample_weight\u001b[0m\u001b[0;34m)\u001b[0m\u001b[0;34m\u001b[0m\u001b[0;34m\u001b[0m\u001b[0m\n",
      "\u001b[0;31mValueError\u001b[0m: multiclass format is not supported"
     ]
    }
   ],
   "source": [
    "metrics.precision_recall_curve(y_true[0],y_pred[0])"
   ]
  },
  {
   "cell_type": "code",
   "execution_count": 164,
   "metadata": {},
   "outputs": [
    {
     "data": {
      "text/plain": [
       "str"
      ]
     },
     "execution_count": 164,
     "metadata": {},
     "output_type": "execute_result"
    }
   ],
   "source": [
    "type(y_pred[0][0])"
   ]
  },
  {
   "cell_type": "code",
   "execution_count": 165,
   "metadata": {},
   "outputs": [
    {
     "data": {
      "text/plain": [
       "str"
      ]
     },
     "execution_count": 165,
     "metadata": {},
     "output_type": "execute_result"
    }
   ],
   "source": [
    "type(y_true[0][0])"
   ]
  },
  {
   "cell_type": "code",
   "execution_count": 168,
   "metadata": {},
   "outputs": [
    {
     "data": {
      "text/plain": [
       "(array([0.5, 1. ]), array([1., 0.]), array([1]))"
      ]
     },
     "execution_count": 168,
     "metadata": {},
     "output_type": "execute_result"
    }
   ],
   "source": [
    "metrics.precision_recall_curve([1,0,1,0],[1,1,1,1])"
   ]
  },
  {
   "cell_type": "code",
   "execution_count": null,
   "metadata": {},
   "outputs": [],
   "source": []
  }
 ],
 "metadata": {
  "kernelspec": {
   "display_name": "Python 3",
   "language": "python",
   "name": "python3"
  },
  "language_info": {
   "codemirror_mode": {
    "name": "ipython",
    "version": 3
   },
   "file_extension": ".py",
   "mimetype": "text/x-python",
   "name": "python",
   "nbconvert_exporter": "python",
   "pygments_lexer": "ipython3",
   "version": "3.6.8"
  }
 },
 "nbformat": 4,
 "nbformat_minor": 2
}
