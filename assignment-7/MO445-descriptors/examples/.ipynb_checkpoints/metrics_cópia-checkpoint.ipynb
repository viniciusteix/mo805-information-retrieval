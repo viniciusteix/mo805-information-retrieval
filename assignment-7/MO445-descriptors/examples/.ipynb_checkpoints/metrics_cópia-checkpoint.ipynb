{
 "cells": [
  {
   "cell_type": "code",
   "execution_count": 1,
   "metadata": {},
   "outputs": [],
   "source": [
    "%matplotlib inline\n",
    "import pandas as pd\n",
    "import numpy as np\n",
    "from matplotlib import pyplot as plt\n",
    "from sklearn import metrics as mt_s"
   ]
  },
  {
   "cell_type": "code",
   "execution_count": 2,
   "metadata": {},
   "outputs": [],
   "source": [
    "data = pd.read_csv('results.csv',header=None,delimiter=' ')"
   ]
  },
  {
   "cell_type": "code",
   "execution_count": 101,
   "metadata": {},
   "outputs": [],
   "source": [
    "df = pd.DataFrame(data)"
   ]
  },
  {
   "cell_type": "code",
   "execution_count": 102,
   "metadata": {},
   "outputs": [],
   "source": [
    "types = np.array(['apple','bat','beetle','bell','bird','Bone','bottle','brick','butterfly','camel','car','carriage','cattle','cellular_phone','chicken','children','chopper','classic','Comma','crown','cup','deer','device0','device1','device2','device3','device4','device5','device6','device7','device8','device9','dog','elephant','face','fish','flatfish','fly','fork','fountain','frog','Glas','guitar','hammer','hat','HCircle','Heart','horse','horseshoe','jar','key','lizzard','lmfish','Misk','octopus','pencil','personal_car','pocket','rat','ray','sea_snake','shoe','spoon','spring','stef','teddy','tree','truck','turtle','watch'])"
   ]
  },
  {
   "cell_type": "code",
   "execution_count": 107,
   "metadata": {},
   "outputs": [
    {
     "data": {
      "text/plain": [
       "(2800, 1402)"
      ]
     },
     "execution_count": 107,
     "metadata": {},
     "output_type": "execute_result"
    }
   ],
   "source": [
    "data.shape"
   ]
  },
  {
   "cell_type": "code",
   "execution_count": 108,
   "metadata": {},
   "outputs": [
    {
     "ename": "KeyboardInterrupt",
     "evalue": "",
     "output_type": "error",
     "traceback": [
      "\u001b[0;31m---------------------------------------------------------------------------\u001b[0m",
      "\u001b[0;31mKeyboardInterrupt\u001b[0m                         Traceback (most recent call last)",
      "\u001b[0;32m<ipython-input-108-4e57a0ecbd07>\u001b[0m in \u001b[0;36m<module>\u001b[0;34m\u001b[0m\n\u001b[1;32m      2\u001b[0m     \u001b[0mreg\u001b[0m \u001b[0;34m=\u001b[0m \u001b[0;34m'^'\u001b[0m \u001b[0;34m+\u001b[0m \u001b[0mt\u001b[0m \u001b[0;34m+\u001b[0m \u001b[0;34m'.*'\u001b[0m\u001b[0;34m\u001b[0m\u001b[0;34m\u001b[0m\u001b[0m\n\u001b[1;32m      3\u001b[0m \u001b[0;31m#     print(r'' + reg)\u001b[0m\u001b[0;34m\u001b[0m\u001b[0;34m\u001b[0m\u001b[0;34m\u001b[0m\u001b[0m\n\u001b[0;32m----> 4\u001b[0;31m     \u001b[0mdf\u001b[0m \u001b[0;34m=\u001b[0m \u001b[0mdf\u001b[0m\u001b[0;34m.\u001b[0m\u001b[0mreplace\u001b[0m\u001b[0;34m(\u001b[0m\u001b[0mregex\u001b[0m\u001b[0;34m=\u001b[0m\u001b[0;34m{\u001b[0m\u001b[0mreg\u001b[0m\u001b[0;34m:\u001b[0m\u001b[0mt\u001b[0m\u001b[0;34m}\u001b[0m\u001b[0;34m)\u001b[0m\u001b[0;34m\u001b[0m\u001b[0;34m\u001b[0m\u001b[0m\n\u001b[0m",
      "\u001b[0;32m~/anaconda3/lib/python3.7/site-packages/pandas/core/frame.py\u001b[0m in \u001b[0;36mreplace\u001b[0;34m(self, to_replace, value, inplace, limit, regex, method)\u001b[0m\n\u001b[1;32m   3796\u001b[0m                                               \u001b[0mvalue\u001b[0m\u001b[0;34m=\u001b[0m\u001b[0mvalue\u001b[0m\u001b[0;34m,\u001b[0m \u001b[0minplace\u001b[0m\u001b[0;34m=\u001b[0m\u001b[0minplace\u001b[0m\u001b[0;34m,\u001b[0m\u001b[0;34m\u001b[0m\u001b[0;34m\u001b[0m\u001b[0m\n\u001b[1;32m   3797\u001b[0m                                               \u001b[0mlimit\u001b[0m\u001b[0;34m=\u001b[0m\u001b[0mlimit\u001b[0m\u001b[0;34m,\u001b[0m \u001b[0mregex\u001b[0m\u001b[0;34m=\u001b[0m\u001b[0mregex\u001b[0m\u001b[0;34m,\u001b[0m\u001b[0;34m\u001b[0m\u001b[0;34m\u001b[0m\u001b[0m\n\u001b[0;32m-> 3798\u001b[0;31m                                               method=method)\n\u001b[0m\u001b[1;32m   3799\u001b[0m \u001b[0;34m\u001b[0m\u001b[0m\n\u001b[1;32m   3800\u001b[0m     \u001b[0;34m@\u001b[0m\u001b[0mAppender\u001b[0m\u001b[0;34m(\u001b[0m\u001b[0m_shared_docs\u001b[0m\u001b[0;34m[\u001b[0m\u001b[0;34m'shift'\u001b[0m\u001b[0;34m]\u001b[0m \u001b[0;34m%\u001b[0m \u001b[0m_shared_doc_kwargs\u001b[0m\u001b[0;34m)\u001b[0m\u001b[0;34m\u001b[0m\u001b[0;34m\u001b[0m\u001b[0m\n",
      "\u001b[0;32m~/anaconda3/lib/python3.7/site-packages/pandas/core/generic.py\u001b[0m in \u001b[0;36mreplace\u001b[0;34m(self, to_replace, value, inplace, limit, regex, method)\u001b[0m\n\u001b[1;32m   5800\u001b[0m \u001b[0;34m\u001b[0m\u001b[0m\n\u001b[1;32m   5801\u001b[0m             return self.replace(to_replace, value, inplace=inplace,\n\u001b[0;32m-> 5802\u001b[0;31m                                 limit=limit, regex=regex)\n\u001b[0m\u001b[1;32m   5803\u001b[0m         \u001b[0;32melse\u001b[0m\u001b[0;34m:\u001b[0m\u001b[0;34m\u001b[0m\u001b[0;34m\u001b[0m\u001b[0m\n\u001b[1;32m   5804\u001b[0m \u001b[0;34m\u001b[0m\u001b[0m\n",
      "\u001b[0;32m~/anaconda3/lib/python3.7/site-packages/pandas/core/frame.py\u001b[0m in \u001b[0;36mreplace\u001b[0;34m(self, to_replace, value, inplace, limit, regex, method)\u001b[0m\n\u001b[1;32m   3796\u001b[0m                                               \u001b[0mvalue\u001b[0m\u001b[0;34m=\u001b[0m\u001b[0mvalue\u001b[0m\u001b[0;34m,\u001b[0m \u001b[0minplace\u001b[0m\u001b[0;34m=\u001b[0m\u001b[0minplace\u001b[0m\u001b[0;34m,\u001b[0m\u001b[0;34m\u001b[0m\u001b[0;34m\u001b[0m\u001b[0m\n\u001b[1;32m   3797\u001b[0m                                               \u001b[0mlimit\u001b[0m\u001b[0;34m=\u001b[0m\u001b[0mlimit\u001b[0m\u001b[0;34m,\u001b[0m \u001b[0mregex\u001b[0m\u001b[0;34m=\u001b[0m\u001b[0mregex\u001b[0m\u001b[0;34m,\u001b[0m\u001b[0;34m\u001b[0m\u001b[0;34m\u001b[0m\u001b[0m\n\u001b[0;32m-> 3798\u001b[0;31m                                               method=method)\n\u001b[0m\u001b[1;32m   3799\u001b[0m \u001b[0;34m\u001b[0m\u001b[0m\n\u001b[1;32m   3800\u001b[0m     \u001b[0;34m@\u001b[0m\u001b[0mAppender\u001b[0m\u001b[0;34m(\u001b[0m\u001b[0m_shared_docs\u001b[0m\u001b[0;34m[\u001b[0m\u001b[0;34m'shift'\u001b[0m\u001b[0;34m]\u001b[0m \u001b[0;34m%\u001b[0m \u001b[0m_shared_doc_kwargs\u001b[0m\u001b[0;34m)\u001b[0m\u001b[0;34m\u001b[0m\u001b[0;34m\u001b[0m\u001b[0m\n",
      "\u001b[0;32m~/anaconda3/lib/python3.7/site-packages/pandas/core/generic.py\u001b[0m in \u001b[0;36mreplace\u001b[0;34m(self, to_replace, value, inplace, limit, regex, method)\u001b[0m\n\u001b[1;32m   5849\u001b[0m                                                        \u001b[0mdest_list\u001b[0m\u001b[0;34m=\u001b[0m\u001b[0mvalue\u001b[0m\u001b[0;34m,\u001b[0m\u001b[0;34m\u001b[0m\u001b[0;34m\u001b[0m\u001b[0m\n\u001b[1;32m   5850\u001b[0m                                                        \u001b[0minplace\u001b[0m\u001b[0;34m=\u001b[0m\u001b[0minplace\u001b[0m\u001b[0;34m,\u001b[0m\u001b[0;34m\u001b[0m\u001b[0;34m\u001b[0m\u001b[0m\n\u001b[0;32m-> 5851\u001b[0;31m                                                        regex=regex)\n\u001b[0m\u001b[1;32m   5852\u001b[0m \u001b[0;34m\u001b[0m\u001b[0m\n\u001b[1;32m   5853\u001b[0m                 \u001b[0;32melse\u001b[0m\u001b[0;34m:\u001b[0m  \u001b[0;31m# [NA, ''] -> 0\u001b[0m\u001b[0;34m\u001b[0m\u001b[0;34m\u001b[0m\u001b[0m\n",
      "\u001b[0;32m~/anaconda3/lib/python3.7/site-packages/pandas/core/internals.py\u001b[0m in \u001b[0;36mreplace_list\u001b[0;34m(self, src_list, dest_list, inplace, regex, mgr)\u001b[0m\n\u001b[1;32m   3767\u001b[0m \u001b[0;34m\u001b[0m\u001b[0m\n\u001b[1;32m   3768\u001b[0m         \u001b[0mbm\u001b[0m \u001b[0;34m=\u001b[0m \u001b[0mself\u001b[0m\u001b[0;34m.\u001b[0m\u001b[0m__class__\u001b[0m\u001b[0;34m(\u001b[0m\u001b[0mresult_blocks\u001b[0m\u001b[0;34m,\u001b[0m \u001b[0mself\u001b[0m\u001b[0;34m.\u001b[0m\u001b[0maxes\u001b[0m\u001b[0;34m)\u001b[0m\u001b[0;34m\u001b[0m\u001b[0;34m\u001b[0m\u001b[0m\n\u001b[0;32m-> 3769\u001b[0;31m         \u001b[0mbm\u001b[0m\u001b[0;34m.\u001b[0m\u001b[0m_consolidate_inplace\u001b[0m\u001b[0;34m(\u001b[0m\u001b[0;34m)\u001b[0m\u001b[0;34m\u001b[0m\u001b[0;34m\u001b[0m\u001b[0m\n\u001b[0m\u001b[1;32m   3770\u001b[0m         \u001b[0;32mreturn\u001b[0m \u001b[0mbm\u001b[0m\u001b[0;34m\u001b[0m\u001b[0;34m\u001b[0m\u001b[0m\n\u001b[1;32m   3771\u001b[0m \u001b[0;34m\u001b[0m\u001b[0m\n",
      "\u001b[0;32m~/anaconda3/lib/python3.7/site-packages/pandas/core/internals.py\u001b[0m in \u001b[0;36m_consolidate_inplace\u001b[0;34m(self)\u001b[0m\n\u001b[1;32m   4101\u001b[0m     \u001b[0;32mdef\u001b[0m \u001b[0m_consolidate_inplace\u001b[0m\u001b[0;34m(\u001b[0m\u001b[0mself\u001b[0m\u001b[0;34m)\u001b[0m\u001b[0;34m:\u001b[0m\u001b[0;34m\u001b[0m\u001b[0;34m\u001b[0m\u001b[0m\n\u001b[1;32m   4102\u001b[0m         \u001b[0;32mif\u001b[0m \u001b[0;32mnot\u001b[0m \u001b[0mself\u001b[0m\u001b[0;34m.\u001b[0m\u001b[0mis_consolidated\u001b[0m\u001b[0;34m(\u001b[0m\u001b[0;34m)\u001b[0m\u001b[0;34m:\u001b[0m\u001b[0;34m\u001b[0m\u001b[0;34m\u001b[0m\u001b[0m\n\u001b[0;32m-> 4103\u001b[0;31m             \u001b[0mself\u001b[0m\u001b[0;34m.\u001b[0m\u001b[0mblocks\u001b[0m \u001b[0;34m=\u001b[0m \u001b[0mtuple\u001b[0m\u001b[0;34m(\u001b[0m\u001b[0m_consolidate\u001b[0m\u001b[0;34m(\u001b[0m\u001b[0mself\u001b[0m\u001b[0;34m.\u001b[0m\u001b[0mblocks\u001b[0m\u001b[0;34m)\u001b[0m\u001b[0;34m)\u001b[0m\u001b[0;34m\u001b[0m\u001b[0;34m\u001b[0m\u001b[0m\n\u001b[0m\u001b[1;32m   4104\u001b[0m             \u001b[0mself\u001b[0m\u001b[0;34m.\u001b[0m\u001b[0m_is_consolidated\u001b[0m \u001b[0;34m=\u001b[0m \u001b[0;32mTrue\u001b[0m\u001b[0;34m\u001b[0m\u001b[0;34m\u001b[0m\u001b[0m\n\u001b[1;32m   4105\u001b[0m             \u001b[0mself\u001b[0m\u001b[0;34m.\u001b[0m\u001b[0m_known_consolidated\u001b[0m \u001b[0;34m=\u001b[0m \u001b[0;32mTrue\u001b[0m\u001b[0;34m\u001b[0m\u001b[0;34m\u001b[0m\u001b[0m\n",
      "\u001b[0;32m~/anaconda3/lib/python3.7/site-packages/pandas/core/internals.py\u001b[0m in \u001b[0;36m_consolidate\u001b[0;34m(blocks)\u001b[0m\n\u001b[1;32m   5067\u001b[0m     \u001b[0;32mfor\u001b[0m \u001b[0;34m(\u001b[0m\u001b[0m_can_consolidate\u001b[0m\u001b[0;34m,\u001b[0m \u001b[0mdtype\u001b[0m\u001b[0;34m)\u001b[0m\u001b[0;34m,\u001b[0m \u001b[0mgroup_blocks\u001b[0m \u001b[0;32min\u001b[0m \u001b[0mgrouper\u001b[0m\u001b[0;34m:\u001b[0m\u001b[0;34m\u001b[0m\u001b[0;34m\u001b[0m\u001b[0m\n\u001b[1;32m   5068\u001b[0m         merged_blocks = _merge_blocks(list(group_blocks), dtype=dtype,\n\u001b[0;32m-> 5069\u001b[0;31m                                       _can_consolidate=_can_consolidate)\n\u001b[0m\u001b[1;32m   5070\u001b[0m         \u001b[0mnew_blocks\u001b[0m \u001b[0;34m=\u001b[0m \u001b[0m_extend_blocks\u001b[0m\u001b[0;34m(\u001b[0m\u001b[0mmerged_blocks\u001b[0m\u001b[0;34m,\u001b[0m \u001b[0mnew_blocks\u001b[0m\u001b[0;34m)\u001b[0m\u001b[0;34m\u001b[0m\u001b[0;34m\u001b[0m\u001b[0m\n\u001b[1;32m   5071\u001b[0m     \u001b[0;32mreturn\u001b[0m \u001b[0mnew_blocks\u001b[0m\u001b[0;34m\u001b[0m\u001b[0;34m\u001b[0m\u001b[0m\n",
      "\u001b[0;32m~/anaconda3/lib/python3.7/site-packages/pandas/core/internals.py\u001b[0m in \u001b[0;36m_merge_blocks\u001b[0;34m(blocks, dtype, _can_consolidate)\u001b[0m\n\u001b[1;32m   5091\u001b[0m         \u001b[0margsort\u001b[0m \u001b[0;34m=\u001b[0m \u001b[0mnp\u001b[0m\u001b[0;34m.\u001b[0m\u001b[0margsort\u001b[0m\u001b[0;34m(\u001b[0m\u001b[0mnew_mgr_locs\u001b[0m\u001b[0;34m)\u001b[0m\u001b[0;34m\u001b[0m\u001b[0;34m\u001b[0m\u001b[0m\n\u001b[1;32m   5092\u001b[0m         \u001b[0mnew_values\u001b[0m \u001b[0;34m=\u001b[0m \u001b[0mnew_values\u001b[0m\u001b[0;34m[\u001b[0m\u001b[0margsort\u001b[0m\u001b[0;34m]\u001b[0m\u001b[0;34m\u001b[0m\u001b[0;34m\u001b[0m\u001b[0m\n\u001b[0;32m-> 5093\u001b[0;31m         \u001b[0mnew_mgr_locs\u001b[0m \u001b[0;34m=\u001b[0m \u001b[0mnew_mgr_locs\u001b[0m\u001b[0;34m[\u001b[0m\u001b[0margsort\u001b[0m\u001b[0;34m]\u001b[0m\u001b[0;34m\u001b[0m\u001b[0;34m\u001b[0m\u001b[0m\n\u001b[0m\u001b[1;32m   5094\u001b[0m \u001b[0;34m\u001b[0m\u001b[0m\n\u001b[1;32m   5095\u001b[0m         \u001b[0;32mreturn\u001b[0m \u001b[0mmake_block\u001b[0m\u001b[0;34m(\u001b[0m\u001b[0mnew_values\u001b[0m\u001b[0;34m,\u001b[0m \u001b[0mplacement\u001b[0m\u001b[0;34m=\u001b[0m\u001b[0mnew_mgr_locs\u001b[0m\u001b[0;34m)\u001b[0m\u001b[0;34m\u001b[0m\u001b[0;34m\u001b[0m\u001b[0m\n",
      "\u001b[0;31mKeyboardInterrupt\u001b[0m: "
     ]
    }
   ],
   "source": [
    "for t in types:\n",
    "    reg = '^' + t + '.*'\n",
    "#     print(r'' + reg)\n",
    "    df = df.replace(regex={reg:t})"
   ]
  },
  {
   "cell_type": "code",
   "execution_count": 114,
   "metadata": {},
   "outputs": [],
   "source": [
    "df_ss = df[df[0] == 1]\n",
    "df_mfd = df[df[0] == 2]"
   ]
  },
  {
   "cell_type": "code",
   "execution_count": 115,
   "metadata": {},
   "outputs": [],
   "source": [
    "df_ss = df_ss.drop([0],axis=1)\n",
    "df_mfd = df_mfd.drop([0],axis=1)"
   ]
  },
  {
   "cell_type": "code",
   "execution_count": 11,
   "metadata": {},
   "outputs": [],
   "source": [
    "def convert(y_true,y_pred):\n",
    "    g = [y_true == k for k in y_pred]\n",
    "    return g"
   ]
  },
  {
   "cell_type": "code",
   "execution_count": 61,
   "metadata": {},
   "outputs": [],
   "source": [
    "def precison(y_true, y_pred):\n",
    "    values = []\n",
    "    y = convert(y_true, y_pred)\n",
    "    for i in range(0,len(y)):\n",
    "        v = sum(y[0:i+1])/(i+1)\n",
    "        values.append(v)\n",
    "    return values"
   ]
  },
  {
   "cell_type": "code",
   "execution_count": 62,
   "metadata": {},
   "outputs": [],
   "source": [
    "def recall(y_true, y_pred):\n",
    "    values = []\n",
    "    y = convert(y_true, y_pred)\n",
    "    for i in range(0,len(y)):\n",
    "        v = sum(y[0:i+1])/2\n",
    "        values.append(v)\n",
    "    return values"
   ]
  },
  {
   "cell_type": "code",
   "execution_count": 43,
   "metadata": {},
   "outputs": [
    {
     "data": {
      "text/html": [
       "<div>\n",
       "<style scoped>\n",
       "    .dataframe tbody tr th:only-of-type {\n",
       "        vertical-align: middle;\n",
       "    }\n",
       "\n",
       "    .dataframe tbody tr th {\n",
       "        vertical-align: top;\n",
       "    }\n",
       "\n",
       "    .dataframe thead th {\n",
       "        text-align: right;\n",
       "    }\n",
       "</style>\n",
       "<table border=\"1\" class=\"dataframe\">\n",
       "  <thead>\n",
       "    <tr style=\"text-align: right;\">\n",
       "      <th></th>\n",
       "      <th>1</th>\n",
       "      <th>2</th>\n",
       "      <th>3</th>\n",
       "      <th>4</th>\n",
       "      <th>5</th>\n",
       "      <th>6</th>\n",
       "      <th>7</th>\n",
       "      <th>8</th>\n",
       "      <th>9</th>\n",
       "      <th>10</th>\n",
       "      <th>...</th>\n",
       "      <th>1392</th>\n",
       "      <th>1393</th>\n",
       "      <th>1394</th>\n",
       "      <th>1395</th>\n",
       "      <th>1396</th>\n",
       "      <th>1397</th>\n",
       "      <th>1398</th>\n",
       "      <th>1399</th>\n",
       "      <th>1400</th>\n",
       "      <th>1401</th>\n",
       "    </tr>\n",
       "  </thead>\n",
       "  <tbody>\n",
       "    <tr>\n",
       "      <th>577</th>\n",
       "      <td>Bone</td>\n",
       "      <td>crown</td>\n",
       "      <td>Heart</td>\n",
       "      <td>device6</td>\n",
       "      <td>pencil</td>\n",
       "      <td>HCircle</td>\n",
       "      <td>face</td>\n",
       "      <td>sea_snake</td>\n",
       "      <td>device7</td>\n",
       "      <td>jar</td>\n",
       "      <td>...</td>\n",
       "      <td>ray</td>\n",
       "      <td>bell</td>\n",
       "      <td>guitar</td>\n",
       "      <td>crown</td>\n",
       "      <td>hat</td>\n",
       "      <td>horse</td>\n",
       "      <td>crown</td>\n",
       "      <td>crown</td>\n",
       "      <td>device7</td>\n",
       "      <td>device4</td>\n",
       "    </tr>\n",
       "    <tr>\n",
       "      <th>641</th>\n",
       "      <td>Bone</td>\n",
       "      <td>crown</td>\n",
       "      <td>Heart</td>\n",
       "      <td>device6</td>\n",
       "      <td>pencil</td>\n",
       "      <td>HCircle</td>\n",
       "      <td>face</td>\n",
       "      <td>sea_snake</td>\n",
       "      <td>device7</td>\n",
       "      <td>jar</td>\n",
       "      <td>...</td>\n",
       "      <td>crown</td>\n",
       "      <td>guitar</td>\n",
       "      <td>bell</td>\n",
       "      <td>hat</td>\n",
       "      <td>crown</td>\n",
       "      <td>crown</td>\n",
       "      <td>horse</td>\n",
       "      <td>crown</td>\n",
       "      <td>device7</td>\n",
       "      <td>device4</td>\n",
       "    </tr>\n",
       "    <tr>\n",
       "      <th>306</th>\n",
       "      <td>Bone</td>\n",
       "      <td>crown</td>\n",
       "      <td>Heart</td>\n",
       "      <td>device6</td>\n",
       "      <td>pencil</td>\n",
       "      <td>HCircle</td>\n",
       "      <td>face</td>\n",
       "      <td>sea_snake</td>\n",
       "      <td>device7</td>\n",
       "      <td>jar</td>\n",
       "      <td>...</td>\n",
       "      <td>ray</td>\n",
       "      <td>guitar</td>\n",
       "      <td>bell</td>\n",
       "      <td>crown</td>\n",
       "      <td>hat</td>\n",
       "      <td>horse</td>\n",
       "      <td>crown</td>\n",
       "      <td>crown</td>\n",
       "      <td>device7</td>\n",
       "      <td>device4</td>\n",
       "    </tr>\n",
       "    <tr>\n",
       "      <th>297</th>\n",
       "      <td>Bone</td>\n",
       "      <td>crown</td>\n",
       "      <td>Heart</td>\n",
       "      <td>device6</td>\n",
       "      <td>pencil</td>\n",
       "      <td>HCircle</td>\n",
       "      <td>face</td>\n",
       "      <td>sea_snake</td>\n",
       "      <td>device7</td>\n",
       "      <td>jar</td>\n",
       "      <td>...</td>\n",
       "      <td>crown</td>\n",
       "      <td>guitar</td>\n",
       "      <td>bell</td>\n",
       "      <td>crown</td>\n",
       "      <td>hat</td>\n",
       "      <td>crown</td>\n",
       "      <td>horse</td>\n",
       "      <td>crown</td>\n",
       "      <td>device7</td>\n",
       "      <td>device4</td>\n",
       "    </tr>\n",
       "    <tr>\n",
       "      <th>295</th>\n",
       "      <td>Bone</td>\n",
       "      <td>crown</td>\n",
       "      <td>Heart</td>\n",
       "      <td>device6</td>\n",
       "      <td>pencil</td>\n",
       "      <td>HCircle</td>\n",
       "      <td>face</td>\n",
       "      <td>sea_snake</td>\n",
       "      <td>device7</td>\n",
       "      <td>jar</td>\n",
       "      <td>...</td>\n",
       "      <td>crown</td>\n",
       "      <td>bell</td>\n",
       "      <td>guitar</td>\n",
       "      <td>hat</td>\n",
       "      <td>crown</td>\n",
       "      <td>horse</td>\n",
       "      <td>crown</td>\n",
       "      <td>crown</td>\n",
       "      <td>device7</td>\n",
       "      <td>device4</td>\n",
       "    </tr>\n",
       "  </tbody>\n",
       "</table>\n",
       "<p>5 rows × 1401 columns</p>\n",
       "</div>"
      ],
      "text/plain": [
       "     1      2      3        4       5        6     7          8        9     \\\n",
       "577  Bone  crown  Heart  device6  pencil  HCircle  face  sea_snake  device7   \n",
       "641  Bone  crown  Heart  device6  pencil  HCircle  face  sea_snake  device7   \n",
       "306  Bone  crown  Heart  device6  pencil  HCircle  face  sea_snake  device7   \n",
       "297  Bone  crown  Heart  device6  pencil  HCircle  face  sea_snake  device7   \n",
       "295  Bone  crown  Heart  device6  pencil  HCircle  face  sea_snake  device7   \n",
       "\n",
       "    10     ...      1392    1393    1394   1395   1396   1397   1398   1399  \\\n",
       "577  jar   ...       ray    bell  guitar  crown    hat  horse  crown  crown   \n",
       "641  jar   ...     crown  guitar    bell    hat  crown  crown  horse  crown   \n",
       "306  jar   ...       ray  guitar    bell  crown    hat  horse  crown  crown   \n",
       "297  jar   ...     crown  guitar    bell  crown    hat  crown  horse  crown   \n",
       "295  jar   ...     crown    bell  guitar    hat  crown  horse  crown  crown   \n",
       "\n",
       "        1400     1401  \n",
       "577  device7  device4  \n",
       "641  device7  device4  \n",
       "306  device7  device4  \n",
       "297  device7  device4  \n",
       "295  device7  device4  \n",
       "\n",
       "[5 rows x 1401 columns]"
      ]
     },
     "execution_count": 43,
     "metadata": {},
     "output_type": "execute_result"
    }
   ],
   "source": [
    "df_ss = df_ss.sort_values(by=[1])\n",
    "df_ss.head()"
   ]
  },
  {
   "cell_type": "code",
   "execution_count": 52,
   "metadata": {},
   "outputs": [],
   "source": [
    "test = np.zeros((df_ss.shape[0])).astype('str')\n",
    "for i in range(0,df_ss.shape[0]):\n",
    "    test[i] = df_ss[1][i]"
   ]
  },
  {
   "cell_type": "code",
   "execution_count": 60,
   "metadata": {},
   "outputs": [],
   "source": [
    "y_pred = df_ss.values[:,1:]\n",
    "y_true = np.array(test).astype('object')"
   ]
  },
  {
   "cell_type": "code",
   "execution_count": null,
   "metadata": {},
   "outputs": [],
   "source": [
    "precision, recall, _ = precision_recall_curve(y_test, y_score)"
   ]
  },
  {
   "cell_type": "code",
   "execution_count": null,
   "metadata": {},
   "outputs": [],
   "source": []
  },
  {
   "cell_type": "code",
   "execution_count": 63,
   "metadata": {},
   "outputs": [],
   "source": [
    "precisions = []\n",
    "recalls = []\n",
    "    \n",
    "for i in range(0,len(y_pred)):\n",
    "    p = precison(y_true[i],y_pred[i])\n",
    "    r = recall(y_true[i],y_pred[i])\n",
    "    \n",
    "    precisions.append(p)\n",
    "    recalls.append(r)"
   ]
  },
  {
   "cell_type": "code",
   "execution_count": 68,
   "metadata": {},
   "outputs": [],
   "source": [
    "precisions = np.array(precisions)\n",
    "recalls = np.array(recalls)"
   ]
  },
  {
   "cell_type": "code",
   "execution_count": 172,
   "metadata": {},
   "outputs": [],
   "source": [
    "rr = recalls.sum(axis=0)\n",
    "pp = precisions.sum(axis=0)\n",
    "rr = rr/1400\n",
    "pp = pp/1400"
   ]
  },
  {
   "cell_type": "code",
   "execution_count": 175,
   "metadata": {},
   "outputs": [
    {
     "data": {
      "text/plain": [
       "[<matplotlib.lines.Line2D at 0x7f29298de128>]"
      ]
     },
     "execution_count": 175,
     "metadata": {},
     "output_type": "execute_result"
    },
    {
     "data": {
      "image/png": "[encoded data removed]",
      "text/plain": [
       "<Figure size 432x288 with 1 Axes>"
      ]
     },
     "metadata": {
      "needs_background": "light"
     },
     "output_type": "display_data"
    }
   ],
   "source": [
    "plt.plot(rr,pp,'-')"
   ]
  },
  {
   "cell_type": "code",
   "execution_count": 160,
   "metadata": {},
   "outputs": [
    {
     "data": {
      "text/plain": [
       "(0.0, 15000)"
      ]
     },
     "execution_count": 160,
     "metadata": {},
     "output_type": "execute_result"
    },
    {
     "data": {
      "image/png": "[encoded data removed]",
      "text/plain": [
       "<Figure size 432x288 with 1 Axes>"
      ]
     },
     "metadata": {
      "needs_background": "light"
     },
     "output_type": "display_data"
    }
   ],
   "source": [
    "# In matplotlib < 1.5, plt.fill_between does not have a 'step' argument\n",
    "step_kwargs = ({'step': 'post'}\n",
    "               if 'step' in signature(plt.fill_between).parameters\n",
    "               else {})\n",
    "plt.step(rr, pp, color='b', alpha=0.2,\n",
    "         where='post')\n",
    "plt.fill_between(rr, pp, alpha=0.2, color='b', **step_kwargs)\n",
    "\n",
    "plt.xlabel('Recall')\n",
    "plt.ylabel('Precision')\n",
    "plt.ylim([0.0, 25])\n",
    "plt.xlim([0.0, 15000])\n",
    "#plt.title('2-class Precision-Recall curve: AP={0:0.2f}'.format(22))"
   ]
  },
  {
   "cell_type": "code",
   "execution_count": 117,
   "metadata": {},
   "outputs": [
    {
     "data": {
      "text/html": [
       "<div>\n",
       "<style scoped>\n",
       "    .dataframe tbody tr th:only-of-type {\n",
       "        vertical-align: middle;\n",
       "    }\n",
       "\n",
       "    .dataframe tbody tr th {\n",
       "        vertical-align: top;\n",
       "    }\n",
       "\n",
       "    .dataframe thead th {\n",
       "        text-align: right;\n",
       "    }\n",
       "</style>\n",
       "<table border=\"1\" class=\"dataframe\">\n",
       "  <thead>\n",
       "    <tr style=\"text-align: right;\">\n",
       "      <th></th>\n",
       "      <th>1</th>\n",
       "      <th>2</th>\n",
       "      <th>3</th>\n",
       "      <th>4</th>\n",
       "      <th>5</th>\n",
       "      <th>6</th>\n",
       "      <th>7</th>\n",
       "      <th>8</th>\n",
       "      <th>9</th>\n",
       "      <th>10</th>\n",
       "      <th>...</th>\n",
       "      <th>1392</th>\n",
       "      <th>1393</th>\n",
       "      <th>1394</th>\n",
       "      <th>1395</th>\n",
       "      <th>1396</th>\n",
       "      <th>1397</th>\n",
       "      <th>1398</th>\n",
       "      <th>1399</th>\n",
       "      <th>1400</th>\n",
       "      <th>1401</th>\n",
       "    </tr>\n",
       "  </thead>\n",
       "  <tbody>\n",
       "    <tr>\n",
       "      <th>1977</th>\n",
       "      <td>Bone</td>\n",
       "      <td>Bone</td>\n",
       "      <td>Bone</td>\n",
       "      <td>Bone</td>\n",
       "      <td>Bone</td>\n",
       "      <td>Bone</td>\n",
       "      <td>Bone</td>\n",
       "      <td>Bone</td>\n",
       "      <td>Bone</td>\n",
       "      <td>Bone</td>\n",
       "      <td>...</td>\n",
       "      <td>crown</td>\n",
       "      <td>butterfly</td>\n",
       "      <td>hat</td>\n",
       "      <td>pocket</td>\n",
       "      <td>dog</td>\n",
       "      <td>dog</td>\n",
       "      <td>device4</td>\n",
       "      <td>device4</td>\n",
       "      <td>device7</td>\n",
       "      <td>device4</td>\n",
       "    </tr>\n",
       "    <tr>\n",
       "      <th>2041</th>\n",
       "      <td>Bone</td>\n",
       "      <td>Bone</td>\n",
       "      <td>Bone</td>\n",
       "      <td>Bone</td>\n",
       "      <td>Bone</td>\n",
       "      <td>Bone</td>\n",
       "      <td>Bone</td>\n",
       "      <td>Bone</td>\n",
       "      <td>Bone</td>\n",
       "      <td>Bone</td>\n",
       "      <td>...</td>\n",
       "      <td>pocket</td>\n",
       "      <td>hat</td>\n",
       "      <td>butterfly</td>\n",
       "      <td>pocket</td>\n",
       "      <td>dog</td>\n",
       "      <td>dog</td>\n",
       "      <td>device4</td>\n",
       "      <td>device4</td>\n",
       "      <td>device7</td>\n",
       "      <td>device4</td>\n",
       "    </tr>\n",
       "    <tr>\n",
       "      <th>1706</th>\n",
       "      <td>Bone</td>\n",
       "      <td>Bone</td>\n",
       "      <td>Bone</td>\n",
       "      <td>Bone</td>\n",
       "      <td>Bone</td>\n",
       "      <td>Bone</td>\n",
       "      <td>Bone</td>\n",
       "      <td>Bone</td>\n",
       "      <td>Bone</td>\n",
       "      <td>sea_snake</td>\n",
       "      <td>...</td>\n",
       "      <td>crown</td>\n",
       "      <td>butterfly</td>\n",
       "      <td>hat</td>\n",
       "      <td>pocket</td>\n",
       "      <td>dog</td>\n",
       "      <td>dog</td>\n",
       "      <td>device4</td>\n",
       "      <td>device4</td>\n",
       "      <td>device7</td>\n",
       "      <td>device4</td>\n",
       "    </tr>\n",
       "    <tr>\n",
       "      <th>1697</th>\n",
       "      <td>Bone</td>\n",
       "      <td>Bone</td>\n",
       "      <td>Bone</td>\n",
       "      <td>Bone</td>\n",
       "      <td>watch</td>\n",
       "      <td>watch</td>\n",
       "      <td>watch</td>\n",
       "      <td>watch</td>\n",
       "      <td>watch</td>\n",
       "      <td>Bone</td>\n",
       "      <td>...</td>\n",
       "      <td>dog</td>\n",
       "      <td>pocket</td>\n",
       "      <td>pocket</td>\n",
       "      <td>butterfly</td>\n",
       "      <td>dog</td>\n",
       "      <td>dog</td>\n",
       "      <td>device4</td>\n",
       "      <td>device4</td>\n",
       "      <td>device7</td>\n",
       "      <td>device4</td>\n",
       "    </tr>\n",
       "    <tr>\n",
       "      <th>1695</th>\n",
       "      <td>Bone</td>\n",
       "      <td>Bone</td>\n",
       "      <td>Bone</td>\n",
       "      <td>Bone</td>\n",
       "      <td>watch</td>\n",
       "      <td>watch</td>\n",
       "      <td>watch</td>\n",
       "      <td>Bone</td>\n",
       "      <td>sea_snake</td>\n",
       "      <td>sea_snake</td>\n",
       "      <td>...</td>\n",
       "      <td>hat</td>\n",
       "      <td>pocket</td>\n",
       "      <td>pocket</td>\n",
       "      <td>butterfly</td>\n",
       "      <td>dog</td>\n",
       "      <td>dog</td>\n",
       "      <td>device4</td>\n",
       "      <td>device4</td>\n",
       "      <td>device7</td>\n",
       "      <td>device4</td>\n",
       "    </tr>\n",
       "  </tbody>\n",
       "</table>\n",
       "<p>5 rows × 1401 columns</p>\n",
       "</div>"
      ],
      "text/plain": [
       "      1     2     3     4      5      6      7      8          9     \\\n",
       "1977  Bone  Bone  Bone  Bone   Bone   Bone   Bone   Bone       Bone   \n",
       "2041  Bone  Bone  Bone  Bone   Bone   Bone   Bone   Bone       Bone   \n",
       "1706  Bone  Bone  Bone  Bone   Bone   Bone   Bone   Bone       Bone   \n",
       "1697  Bone  Bone  Bone  Bone  watch  watch  watch  watch      watch   \n",
       "1695  Bone  Bone  Bone  Bone  watch  watch  watch   Bone  sea_snake   \n",
       "\n",
       "           10     ...       1392       1393       1394       1395 1396 1397  \\\n",
       "1977       Bone   ...      crown  butterfly        hat     pocket  dog  dog   \n",
       "2041       Bone   ...     pocket        hat  butterfly     pocket  dog  dog   \n",
       "1706  sea_snake   ...      crown  butterfly        hat     pocket  dog  dog   \n",
       "1697       Bone   ...        dog     pocket     pocket  butterfly  dog  dog   \n",
       "1695  sea_snake   ...        hat     pocket     pocket  butterfly  dog  dog   \n",
       "\n",
       "         1398     1399     1400     1401  \n",
       "1977  device4  device4  device7  device4  \n",
       "2041  device4  device4  device7  device4  \n",
       "1706  device4  device4  device7  device4  \n",
       "1697  device4  device4  device7  device4  \n",
       "1695  device4  device4  device7  device4  \n",
       "\n",
       "[5 rows x 1401 columns]"
      ]
     },
     "execution_count": 117,
     "metadata": {},
     "output_type": "execute_result"
    }
   ],
   "source": [
    "df_mfd = df_mfd.sort_values(by=[1])\n",
    "df_mfd.head()"
   ]
  },
  {
   "cell_type": "code",
   "execution_count": 118,
   "metadata": {},
   "outputs": [],
   "source": [
    "test_ = np.zeros((df_mfd.shape[0])).astype('str')\n",
    "shit  = df_mfd[1].values\n",
    "for i in range(0,df_mfd.shape[0]):\n",
    "    test_[i] = shit[i]"
   ]
  },
  {
   "cell_type": "code",
   "execution_count": 119,
   "metadata": {},
   "outputs": [],
   "source": [
    "y_pred = df_mfd.values[:,1:]\n",
    "y_true = np.array(test).astype('object')"
   ]
  },
  {
   "cell_type": "code",
   "execution_count": 120,
   "metadata": {},
   "outputs": [],
   "source": [
    "precisions_ = []\n",
    "recalls_ = []\n",
    "    \n",
    "for i in range(0,len(y_pred)):\n",
    "    p = precison(y_true[i],y_pred[i])\n",
    "    r = recall(y_true[i],y_pred[i])\n",
    "    \n",
    "    precisions_.append(p)\n",
    "    recalls_.append(r)"
   ]
  },
  {
   "cell_type": "code",
   "execution_count": 121,
   "metadata": {},
   "outputs": [],
   "source": [
    "precisions_ = np.array(precisions_)\n",
    "recalls_ = np.array(recalls_)"
   ]
  },
  {
   "cell_type": "code",
   "execution_count": 161,
   "metadata": {},
   "outputs": [],
   "source": [
    "rr_ = recalls_.sum(axis=0)\n",
    "pp_ = precisions_.sum(axis=0)\n",
    "#rr_ = rr\n",
    "#pp_ = pp"
   ]
  },
  {
   "cell_type": "code",
   "execution_count": 167,
   "metadata": {},
   "outputs": [
    {
     "data": {
      "text/plain": [
       "(0.0, 15000)"
      ]
     },
     "execution_count": 167,
     "metadata": {},
     "output_type": "execute_result"
    },
    {
     "data": {
      "image/png": "[encoded data removed]",
      "text/plain": [
       "<Figure size 432x288 with 1 Axes>"
      ]
     },
     "metadata": {
      "needs_background": "light"
     },
     "output_type": "display_data"
    }
   ],
   "source": [
    "# In matplotlib < 1.5, plt.fill_between does not have a 'step' argument\n",
    "step_kwargs = ({'step': 'post'}\n",
    "               if 'step' in signature(plt.fill_between).parameters\n",
    "               else {})\n",
    "plt.step(rr_, pp_, color='b', alpha=0.2,\n",
    "         where='post')\n",
    "plt.fill_between(rr_, pp_, alpha=0.2, color='b', **step_kwargs)\n",
    "\n",
    "plt.xlabel('Recall')\n",
    "plt.ylabel('Precision')\n",
    "plt.ylim([0.0, 25])\n",
    "plt.xlim([0.0, 15000])\n",
    "#plt.title('2-class Precision-Recall curve: AP={0:0.2f}'.format(22))"
   ]
  },
  {
   "cell_type": "code",
   "execution_count": null,
   "metadata": {},
   "outputs": [],
   "source": []
  },
  {
   "cell_type": "code",
   "execution_count": 165,
   "metadata": {},
   "outputs": [
    {
     "data": {
      "text/plain": [
       "str"
      ]
     },
     "execution_count": 165,
     "metadata": {},
     "output_type": "execute_result"
    }
   ],
   "source": [
    "import matplotlib.pyplot as plt\n",
    "from sklearn.utils.fixes import signature"
   ]
  },
  {
   "cell_type": "code",
   "execution_count": 170,
   "metadata": {},
   "outputs": [
    {
     "data": {
      "image/png": "[encoded data removed]",
      "text/plain": [
       "<Figure size 504x576 with 1 Axes>"
      ]
     },
     "metadata": {
      "needs_background": "light"
     },
     "output_type": "display_data"
    }
   ],
   "source": [
    "from itertools import cycle\n",
    "# setup plot details\n",
    "colors = cycle(['navy', 'turquoise', 'darkorange', 'cornflowerblue', 'teal'])\n",
    "\n",
    "plt.figure(figsize=(7, 8))\n",
    "#f_scores = np.linspace(0.2, 0.8, num=4)\n",
    "lines = []\n",
    "labels = []\n",
    "#for f_score in f_scores:\n",
    "#    x = np.linspace(0.01, 1)\n",
    "#    y = f_score * x / (2 * x - f_score)\n",
    "#    l, = plt.plot(x[y >= 0], y[y >= 0], color='gray', alpha=0.2)\n",
    "#    plt.annotate('f1={0:0.1f}'.format(f_score), xy=(0.9, y[45] + 0.02))\n",
    "\n",
    "#lines.append(l)\n",
    "#labels.append('iso-f1 curves')\n",
    "l, = plt.plot(rr, pp, color='gold', lw=2)\n",
    "lines.append(l)\n",
    "#lines.append(g)\n",
    "\n",
    "#labels.append('micro-average Precision-recall (area = {0:0.2f})')\n",
    "\n",
    "#for i, color in zip(range(1400), colors):\n",
    "#    l, = plt.plot(rr[i], pp[i], color=color, lw=2)\n",
    "#    lines.append(l)\n",
    "    #labels.append('Precision-recall for class {0} (area = {1:0.2f}')\n",
    "\n",
    "fig = plt.gcf()\n",
    "fig.subplots_adjust(bottom=0.25)\n",
    "plt.xlim([0.0, 15000])\n",
    "plt.ylim([0.0, 25])\n",
    "plt.xlabel('Recall')\n",
    "plt.ylabel('Precision')\n",
    "plt.title('Extension of Precision-Recall curve to multi-class')\n",
    "plt.legend(lines, labels, loc=(0, -.38), prop=dict(size=14))\n",
    "\n",
    "\n",
    "plt.show()"
   ]
  },
  {
   "cell_type": "code",
   "execution_count": null,
   "metadata": {},
   "outputs": [],
   "source": []
  },
  {
   "cell_type": "code",
   "execution_count": 143,
   "metadata": {},
   "outputs": [
    {
     "data": {
      "image/png": "[encoded data removed]",
      "text/plain": [
       "<Figure size 504x576 with 1 Axes>"
      ]
     },
     "metadata": {
      "needs_background": "light"
     },
     "output_type": "display_data"
    }
   ],
   "source": [
    "from itertools import cycle\n",
    "# setup plot details\n",
    "colors = cycle(['navy', 'turquoise', 'darkorange', 'cornflowerblue', 'teal'])\n",
    "\n",
    "plt.figure(figsize=(7, 8))\n",
    "#f_scores = np.linspace(0.2, 0.8, num=4)\n",
    "lines = []\n",
    "labels = []\n",
    "#for f_score in f_scores:\n",
    "#    x = np.linspace(0.01, 1)\n",
    "#    y = f_score * x / (2 * x - f_score)\n",
    "#    l, = plt.plot(x[y >= 0], y[y >= 0], color='gray', alpha=0.2)\n",
    "#    plt.annotate('f1={0:0.1f}'.format(f_score), xy=(0.9, y[45] + 0.02))\n",
    "\n",
    "#lines.append(l)\n",
    "#labels.append('iso-f1 curves')\n",
    "l, = plt.plot(recalls, precisions, color='gold', lw=2)\n",
    "g, = plt.plot(precisions, recalls , color='blue', lw=2)\n",
    "lines.append(l)\n",
    "lines.append(g)\n",
    "\n",
    "#labels.append('micro-average Precision-recall (area = {0:0.2f})')\n",
    "\n",
    "#for i, color in zip(range(70), colors):\n",
    "#    l, = plt.plot(recalls[i], precisions[i], color=color, lw=2)\n",
    "#    lines.append(l)\n",
    "    #labels.append('Precision-recall for class {0} (area = {1:0.2f}')\n",
    "\n",
    "fig = plt.gcf()\n",
    "fig.subplots_adjust(bottom=0.25)\n",
    "plt.xlim([0.0, 1.05])\n",
    "plt.ylim([0.0, 1.05])\n",
    "plt.xlabel('Recall')\n",
    "plt.ylabel('Precision')\n",
    "plt.title('Extension of Precision-Recall curve to multi-class')\n",
    "plt.legend(lines, labels, loc=(0, -.38), prop=dict(size=14))\n",
    "\n",
    "\n",
    "plt.show()"
   ]
  },
  {
   "cell_type": "code",
   "execution_count": null,
   "metadata": {},
   "outputs": [],
   "source": []
  }
 ],
 "metadata": {
  "kernelspec": {
   "display_name": "Python 3",
   "language": "python",
   "name": "python3"
  },
  "language_info": {
   "codemirror_mode": {
    "name": "ipython",
    "version": 3
   },
   "file_extension": ".py",
   "mimetype": "text/x-python",
   "name": "python",
   "nbconvert_exporter": "python",
   "pygments_lexer": "ipython3",
   "version": "3.7.1"
  }
 },
 "nbformat": 4,
 "nbformat_minor": 2
}
